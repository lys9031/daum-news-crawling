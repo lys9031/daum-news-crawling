{
 "cells": [
  {
   "cell_type": "code",
   "execution_count": 52,
   "metadata": {},
   "outputs": [
    {
     "data": {
      "text/plain": [
       "'C:\\\\Users\\\\20\\\\Desktop\\\\python'"
      ]
     },
     "execution_count": 52,
     "metadata": {},
     "output_type": "execute_result"
    }
   ],
   "source": [
    "pwd"
   ]
  },
  {
   "cell_type": "code",
   "execution_count": 53,
   "metadata": {},
   "outputs": [],
   "source": [
    "# 라이브러리 import\n",
    "import pandas as pd\n",
    "import numpy as np\n",
    "\n",
    "from selenium import webdriver                        # 라이브러리(모듈) 가져오라\n",
    "from selenium.webdriver import ActionChains as AC     # 웹브라우저 동작\n",
    "from tqdm import tqdm\n",
    "from tqdm.notebook import tqdm\n",
    "from time import sleep\n",
    "import time"
   ]
  },
  {
   "cell_type": "code",
   "execution_count": 54,
   "metadata": {},
   "outputs": [
    {
     "data": {
      "text/plain": [
       "'SK텔레콤'"
      ]
     },
     "execution_count": 54,
     "metadata": {},
     "output_type": "execute_result"
    }
   ],
   "source": [
    "# 데이터 수집할 키워드 지정\n",
    "keyword = \"SK텔레콤\"\n",
    "keyword"
   ]
  },
  {
   "cell_type": "markdown",
   "metadata": {},
   "source": [
    "# 다음뉴스들 url 수집"
   ]
  },
  {
   "cell_type": "code",
   "execution_count": 55,
   "metadata": {},
   "outputs": [],
   "source": [
    "# 크롬창 띄우기\n",
    "driver = webdriver.Chrome(\"chromedriver.exe\")  # 맥 : /Users/aiden/Desktop/chromedriver\n",
    "driver.get(\"https://search.daum.net/search?w=news&nil_search=btn&DA=NTB&enc=utf8&cluster=y&cluster_page=1&q={}\".format(keyword))\n",
    "time.sleep(3) #문자 안에 변수를 넣고 싶을떼 넣고 싶은 위치에 {}를 쓰고 뒤에 .format(변수)를 넣어준다"
   ]
  },
  {
   "cell_type": "code",
   "execution_count": 56,
   "metadata": {},
   "outputs": [
    {
     "data": {
      "text/plain": [
       "['http://v.media.daum.net/v/20210512120736022',\n",
       " 'http://v.media.daum.net/v/20210512091125820',\n",
       " 'http://v.media.daum.net/v/20210512085248858',\n",
       " 'http://v.media.daum.net/v/20210512095404761',\n",
       " 'http://v.media.daum.net/v/20210512093507910',\n",
       " 'http://v.media.daum.net/v/20210512105307957',\n",
       " 'http://v.media.daum.net/v/20210512095506800',\n",
       " 'http://v.media.daum.net/v/20210512084611649',\n",
       " 'http://v.media.daum.net/v/20210512093726016',\n",
       " 'http://v.media.daum.net/v/20210512075335309',\n",
       " 'http://v.media.daum.net/v/20210512074610188']"
      ]
     },
     "execution_count": 56,
     "metadata": {},
     "output_type": "execute_result"
    }
   ],
   "source": [
    "# page1에서 다음뉴스 url 수집하기\n",
    "things = driver.find_elements_by_link_text('다음뉴스')  \n",
    "\n",
    "url_list1 = []\n",
    "for thing in things:\n",
    "    url1 = thing.get_attribute('href')\n",
    "    url_list1.append(url1)\n",
    "    \n",
    "url_list1"
   ]
  },
  {
   "cell_type": "code",
   "execution_count": 57,
   "metadata": {},
   "outputs": [],
   "source": [
    "driver.find_element_by_link_text(\"2\").click( )"
   ]
  },
  {
   "cell_type": "code",
   "execution_count": 58,
   "metadata": {},
   "outputs": [
    {
     "data": {
      "text/plain": [
       "['http://v.media.daum.net/v/20210512085158824',\n",
       " 'http://v.media.daum.net/v/20210512085317872',\n",
       " 'http://v.media.daum.net/v/20210512030051855',\n",
       " 'http://v.media.daum.net/v/20210511200701682',\n",
       " 'http://v.media.daum.net/v/20210512085956073']"
      ]
     },
     "execution_count": 58,
     "metadata": {},
     "output_type": "execute_result"
    }
   ],
   "source": [
    "# page1에서 다음뉴스 url 수집하기\n",
    "things = driver.find_elements_by_link_text('다음뉴스')  \n",
    "\n",
    "url_list2 = []\n",
    "for thing in things:\n",
    "    url2 = thing.get_attribute('href')\n",
    "    url_list2.append(url2)\n",
    "    \n",
    "url_list2"
   ]
  },
  {
   "cell_type": "code",
   "execution_count": 59,
   "metadata": {},
   "outputs": [
    {
     "name": "stdout",
     "output_type": "stream",
     "text": [
      "16\n"
     ]
    },
    {
     "data": {
      "text/plain": [
       "['http://v.media.daum.net/v/20210512120736022',\n",
       " 'http://v.media.daum.net/v/20210512091125820',\n",
       " 'http://v.media.daum.net/v/20210512085248858',\n",
       " 'http://v.media.daum.net/v/20210512095404761',\n",
       " 'http://v.media.daum.net/v/20210512093507910',\n",
       " 'http://v.media.daum.net/v/20210512105307957',\n",
       " 'http://v.media.daum.net/v/20210512095506800',\n",
       " 'http://v.media.daum.net/v/20210512084611649',\n",
       " 'http://v.media.daum.net/v/20210512093726016',\n",
       " 'http://v.media.daum.net/v/20210512075335309',\n",
       " 'http://v.media.daum.net/v/20210512074610188',\n",
       " 'http://v.media.daum.net/v/20210512085158824',\n",
       " 'http://v.media.daum.net/v/20210512085317872',\n",
       " 'http://v.media.daum.net/v/20210512030051855',\n",
       " 'http://v.media.daum.net/v/20210511200701682',\n",
       " 'http://v.media.daum.net/v/20210512085956073']"
      ]
     },
     "execution_count": 59,
     "metadata": {},
     "output_type": "execute_result"
    }
   ],
   "source": [
    "url_list = (url_list1+url_list2)\n",
    "print(len(url_list))\n",
    "url_list"
   ]
  },
  {
   "cell_type": "code",
   "execution_count": 60,
   "metadata": {
    "scrolled": true
   },
   "outputs": [],
   "source": [
    "df = pd.DataFrame({\"url\":url_list})\n",
    "df.to_csv('daumnews_urls.csv')"
   ]
  },
  {
   "cell_type": "markdown",
   "metadata": {},
   "source": [
    "## 전체 기사 for문으로 데이터 수집하기"
   ]
  },
  {
   "cell_type": "code",
   "execution_count": 61,
   "metadata": {},
   "outputs": [
    {
     "data": {
      "text/plain": [
       "16"
      ]
     },
     "execution_count": 61,
     "metadata": {},
     "output_type": "execute_result"
    }
   ],
   "source": [
    "s = len(df['url'])\n",
    "s"
   ]
  },
  {
   "cell_type": "code",
   "execution_count": 62,
   "metadata": {
    "scrolled": false
   },
   "outputs": [
    {
     "data": {
      "application/vnd.jupyter.widget-view+json": {
       "model_id": "ec8401d244fd4fc5834c7810d326e741",
       "version_major": 2,
       "version_minor": 0
      },
      "text/plain": [
       "HBox(children=(HTML(value=''), FloatProgress(value=0.0, max=16.0), HTML(value='')))"
      ]
     },
     "metadata": {},
     "output_type": "display_data"
    },
    {
     "data": {
      "application/vnd.jupyter.widget-view+json": {
       "model_id": "5e2b405a342c45c4830d697963c6f009",
       "version_major": 2,
       "version_minor": 0
      },
      "text/plain": [
       "HBox(children=(HTML(value=''), FloatProgress(value=1.0, bar_style='info', layout=Layout(width='20px'), max=1.0…"
      ]
     },
     "metadata": {},
     "output_type": "display_data"
    },
    {
     "name": "stdout",
     "output_type": "stream",
     "text": [
      "\n",
      "SK텔레콤, 'AWS 서밋 2021' 참가..MEC·클라우드 사업 비전 제시 ( 댓글 수: 0 )\n"
     ]
    },
    {
     "data": {
      "application/vnd.jupyter.widget-view+json": {
       "model_id": "803ddb64672a4fdc8829e59553f7b335",
       "version_major": 2,
       "version_minor": 0
      },
      "text/plain": [
       "HBox(children=(HTML(value=''), FloatProgress(value=1.0, bar_style='info', layout=Layout(width='20px'), max=1.0…"
      ]
     },
     "metadata": {},
     "output_type": "display_data"
    },
    {
     "name": "stdout",
     "output_type": "stream",
     "text": [
      "\n",
      "\"SK텔레콤, 1분기 실적 서프라이즈..2분기도 이어간다\" -이베스트 ( 댓글 수: 0 )\n"
     ]
    },
    {
     "data": {
      "application/vnd.jupyter.widget-view+json": {
       "model_id": "b132b49242994e439186c2b0e2442e95",
       "version_major": 2,
       "version_minor": 0
      },
      "text/plain": [
       "HBox(children=(HTML(value=''), FloatProgress(value=1.0, bar_style='info', layout=Layout(width='20px'), max=1.0…"
      ]
     },
     "metadata": {},
     "output_type": "display_data"
    },
    {
     "name": "stdout",
     "output_type": "stream",
     "text": [
      "\n",
      "SK텔레콤, 모멘텀에 더해진 호실적..목표가↑-SK증권 ( 댓글 수: 0 )\n"
     ]
    },
    {
     "data": {
      "application/vnd.jupyter.widget-view+json": {
       "model_id": "6993b78ead4a45048d9443b81ec37aac",
       "version_major": 2,
       "version_minor": 0
      },
      "text/plain": [
       "HBox(children=(HTML(value=''), FloatProgress(value=1.0, bar_style='info', layout=Layout(width='20px'), max=1.0…"
      ]
     },
     "metadata": {},
     "output_type": "display_data"
    },
    {
     "name": "stdout",
     "output_type": "stream",
     "text": [
      "\n",
      "휴림로봇, 테미 SK텔레콤 인공지능 탑재 소식에 2%대 강세 ( 댓글 수: 0 )\n"
     ]
    },
    {
     "data": {
      "application/vnd.jupyter.widget-view+json": {
       "model_id": "7d03ad531ee74605a0421dbd940b68b3",
       "version_major": 2,
       "version_minor": 0
      },
      "text/plain": [
       "HBox(children=(HTML(value=''), FloatProgress(value=1.0, bar_style='info', layout=Layout(width='20px'), max=1.0…"
      ]
     },
     "metadata": {},
     "output_type": "display_data"
    },
    {
     "name": "stdout",
     "output_type": "stream",
     "text": [
      "\n",
      "휴림로봇, 테미 SK텔레콤 인공지능 탑재 ( 댓글 수: 0 )\n"
     ]
    },
    {
     "data": {
      "application/vnd.jupyter.widget-view+json": {
       "model_id": "72f832edd095430ca8b4f4c43c49fefa",
       "version_major": 2,
       "version_minor": 0
      },
      "text/plain": [
       "HBox(children=(HTML(value=''), FloatProgress(value=1.0, bar_style='info', layout=Layout(width='20px'), max=1.0…"
      ]
     },
     "metadata": {},
     "output_type": "display_data"
    },
    {
     "name": "stdout",
     "output_type": "stream",
     "text": [
      "\n",
      "휴림로봇, '테미'에 SKT 인공지능 탑재..서비스 역량 강화 ( 댓글 수: 0 )\n"
     ]
    },
    {
     "data": {
      "application/vnd.jupyter.widget-view+json": {
       "model_id": "2f1db845907646afa12a42a71cdd5709",
       "version_major": 2,
       "version_minor": 0
      },
      "text/plain": [
       "HBox(children=(HTML(value=''), FloatProgress(value=1.0, bar_style='info', layout=Layout(width='20px'), max=1.0…"
      ]
     },
     "metadata": {},
     "output_type": "display_data"
    },
    {
     "name": "stdout",
     "output_type": "stream",
     "text": [
      "\n",
      "휴림로봇, 테미 'SKT 인공지능 탑재'..B2C·B2B 역량↑ ( 댓글 수: 0 )\n"
     ]
    },
    {
     "data": {
      "application/vnd.jupyter.widget-view+json": {
       "model_id": "4052710d2052471391984840761fa79b",
       "version_major": 2,
       "version_minor": 0
      },
      "text/plain": [
       "HBox(children=(HTML(value=''), FloatProgress(value=1.0, bar_style='info', layout=Layout(width='20px'), max=1.0…"
      ]
     },
     "metadata": {},
     "output_type": "display_data"
    },
    {
     "name": "stdout",
     "output_type": "stream",
     "text": [
      "\n",
      "SK텔레콤, 통신 그 이상으로 뻗어나간다-미래에셋 ( 댓글 수: 0 )\n"
     ]
    },
    {
     "data": {
      "application/vnd.jupyter.widget-view+json": {
       "model_id": "96cba0542abf4a17bd8c26a07bfa3596",
       "version_major": 2,
       "version_minor": 0
      },
      "text/plain": [
       "HBox(children=(HTML(value=''), FloatProgress(value=1.0, bar_style='info', layout=Layout(width='20px'), max=1.0…"
      ]
     },
     "metadata": {},
     "output_type": "display_data"
    },
    {
     "name": "stdout",
     "output_type": "stream",
     "text": [
      "\n",
      "SKT, 'AWS 서밋'서 MEC 서비스 소개 ( 댓글 수: 0 )\n"
     ]
    },
    {
     "data": {
      "application/vnd.jupyter.widget-view+json": {
       "model_id": "3279064932c444709e665dc22237f0ec",
       "version_major": 2,
       "version_minor": 0
      },
      "text/plain": [
       "HBox(children=(HTML(value=''), FloatProgress(value=1.0, bar_style='info', layout=Layout(width='20px'), max=1.0…"
      ]
     },
     "metadata": {},
     "output_type": "display_data"
    },
    {
     "name": "stdout",
     "output_type": "stream",
     "text": [
      "\n",
      "SK텔레콤, 1·4분기 영업익 컨센서스 큰 폭 상회-유안타 ( 댓글 수: 0 )\n"
     ]
    },
    {
     "data": {
      "application/vnd.jupyter.widget-view+json": {
       "model_id": "78896a6d9f484917bf67d25b94d974dd",
       "version_major": 2,
       "version_minor": 0
      },
      "text/plain": [
       "HBox(children=(HTML(value=''), FloatProgress(value=1.0, bar_style='info', layout=Layout(width='20px'), max=1.0…"
      ]
     },
     "metadata": {},
     "output_type": "display_data"
    },
    {
     "name": "stdout",
     "output_type": "stream",
     "text": [
      "\n",
      "SK텔레콤, 1Q 영업익 3888억원..컨센서스 대폭 상회-유안타 ( 댓글 수: 0 )\n"
     ]
    },
    {
     "data": {
      "application/vnd.jupyter.widget-view+json": {
       "model_id": "768333a7a3e24f979eefef08a230231a",
       "version_major": 2,
       "version_minor": 0
      },
      "text/plain": [
       "HBox(children=(HTML(value=''), FloatProgress(value=1.0, bar_style='info', layout=Layout(width='20px'), max=1.0…"
      ]
     },
     "metadata": {},
     "output_type": "display_data"
    },
    {
     "name": "stdout",
     "output_type": "stream",
     "text": [
      "\n",
      "신한금투 \"SK텔레콤, 본업 성장에 신사업 확장..목표가↑\" ( 댓글 수: 0 )\n"
     ]
    },
    {
     "data": {
      "application/vnd.jupyter.widget-view+json": {
       "model_id": "80327301540840f09895234775904878",
       "version_major": 2,
       "version_minor": 0
      },
      "text/plain": [
       "HBox(children=(HTML(value=''), FloatProgress(value=1.0, bar_style='info', layout=Layout(width='20px'), max=1.0…"
      ]
     },
     "metadata": {},
     "output_type": "display_data"
    },
    {
     "name": "stdout",
     "output_type": "stream",
     "text": [
      "\n",
      "SK텔레콤, 1분기 호실적에 신사업 기대감..목표가↑-신한 ( 댓글 수: 0 )\n"
     ]
    },
    {
     "data": {
      "application/vnd.jupyter.widget-view+json": {
       "model_id": "47d8fd6197124d5fa8a0ba1d59ae58e1",
       "version_major": 2,
       "version_minor": 0
      },
      "text/plain": [
       "HBox(children=(HTML(value=''), FloatProgress(value=1.0, bar_style='info', layout=Layout(width='20px'), max=1.0…"
      ]
     },
     "metadata": {},
     "output_type": "display_data"
    },
    {
     "name": "stdout",
     "output_type": "stream",
     "text": [
      "\n",
      "'깜짝 실적' 내고도 웃지 못하는 SK텔레콤·KT ( 댓글 수: 0 )\n"
     ]
    },
    {
     "data": {
      "application/vnd.jupyter.widget-view+json": {
       "model_id": "07e8a23233e14732b49d241691c7a514",
       "version_major": 2,
       "version_minor": 0
      },
      "text/plain": [
       "HBox(children=(HTML(value=''), FloatProgress(value=1.0, bar_style='info', layout=Layout(width='20px'), max=1.0…"
      ]
     },
     "metadata": {},
     "output_type": "display_data"
    },
    {
     "name": "stdout",
     "output_type": "stream",
     "text": [
      "\n",
      "SK텔레콤, 기업분할해도 배당 줄어들지 않는다 ( 댓글 수: 0 )\n"
     ]
    },
    {
     "data": {
      "application/vnd.jupyter.widget-view+json": {
       "model_id": "fea06ac5bcf34c849e096d96f4f6ed3b",
       "version_major": 2,
       "version_minor": 0
      },
      "text/plain": [
       "HBox(children=(HTML(value=''), FloatProgress(value=1.0, bar_style='info', layout=Layout(width='20px'), max=1.0…"
      ]
     },
     "metadata": {},
     "output_type": "display_data"
    },
    {
     "name": "stdout",
     "output_type": "stream",
     "text": [
      "\n",
      "\"SK텔레콤, 시장 기대치 웃도는 실적·자사주 소각..목표가↑\" ( 댓글 수: 0 )\n",
      "\n",
      "16\n"
     ]
    },
    {
     "data": {
      "text/plain": [
       "{0: {'기사명': \"SK텔레콤, 'AWS 서밋 2021' 참가..MEC·클라우드 사업 비전 제시\",\n",
       "  '날짜': '2021. 05. 12. 12:07',\n",
       "  '좋아요': '0',\n",
       "  '화나요': '0',\n",
       "  '슬퍼요': '0',\n",
       "  '댓글 수': 0,\n",
       "  '댓글': []},\n",
       " 1: {'기사명': '\"SK텔레콤, 1분기 실적 서프라이즈..2분기도 이어간다\" -이베스트',\n",
       "  '날짜': '2021. 05. 12. 09:11',\n",
       "  '좋아요': '0',\n",
       "  '화나요': '0',\n",
       "  '슬퍼요': '0',\n",
       "  '댓글 수': 0,\n",
       "  '댓글': []},\n",
       " 2: {'기사명': 'SK텔레콤, 모멘텀에 더해진 호실적..목표가↑-SK증권',\n",
       "  '날짜': '2021. 05. 12. 08:52',\n",
       "  '좋아요': '0',\n",
       "  '화나요': '0',\n",
       "  '슬퍼요': '0',\n",
       "  '댓글 수': 0,\n",
       "  '댓글': []},\n",
       " 3: {'기사명': '휴림로봇, 테미 SK텔레콤 인공지능 탑재 소식에 2%대 강세',\n",
       "  '날짜': '2021. 05. 12. 09:54',\n",
       "  '좋아요': '0',\n",
       "  '화나요': '0',\n",
       "  '슬퍼요': '0',\n",
       "  '댓글 수': 0,\n",
       "  '댓글': []},\n",
       " 4: {'기사명': '휴림로봇, 테미 SK텔레콤 인공지능 탑재',\n",
       "  '날짜': '2021. 05. 12. 09:35',\n",
       "  '좋아요': '0',\n",
       "  '화나요': '0',\n",
       "  '슬퍼요': '0',\n",
       "  '댓글 수': 0,\n",
       "  '댓글': []},\n",
       " 5: {'기사명': \"휴림로봇, '테미'에 SKT 인공지능 탑재..서비스 역량 강화\",\n",
       "  '날짜': '2021. 05. 12. 10:53',\n",
       "  '좋아요': '0',\n",
       "  '화나요': '0',\n",
       "  '슬퍼요': '0',\n",
       "  '댓글 수': 0,\n",
       "  '댓글': []},\n",
       " 6: {'기사명': \"휴림로봇, 테미 'SKT 인공지능 탑재'..B2C·B2B 역량↑\",\n",
       "  '날짜': '2021. 05. 12. 09:55',\n",
       "  '좋아요': '0',\n",
       "  '화나요': '0',\n",
       "  '슬퍼요': '0',\n",
       "  '댓글 수': 0,\n",
       "  '댓글': []},\n",
       " 7: {'기사명': 'SK텔레콤, 통신 그 이상으로 뻗어나간다-미래에셋',\n",
       "  '날짜': '2021. 05. 12. 08:46',\n",
       "  '좋아요': '0',\n",
       "  '화나요': '0',\n",
       "  '슬퍼요': '0',\n",
       "  '댓글 수': 0,\n",
       "  '댓글': []},\n",
       " 8: {'기사명': \"SKT, 'AWS 서밋'서 MEC 서비스 소개\",\n",
       "  '날짜': '2021. 05. 12. 09:37',\n",
       "  '좋아요': '0',\n",
       "  '화나요': '0',\n",
       "  '슬퍼요': '0',\n",
       "  '댓글 수': 0,\n",
       "  '댓글': []},\n",
       " 9: {'기사명': 'SK텔레콤, 1·4분기 영업익 컨센서스 큰 폭 상회-유안타',\n",
       "  '날짜': '2021. 05. 12. 07:53',\n",
       "  '좋아요': '0',\n",
       "  '화나요': '0',\n",
       "  '슬퍼요': '0',\n",
       "  '댓글 수': 0,\n",
       "  '댓글': []},\n",
       " 10: {'기사명': 'SK텔레콤, 1Q 영업익 3888억원..컨센서스 대폭 상회-유안타',\n",
       "  '날짜': '2021. 05. 12. 07:46',\n",
       "  '좋아요': '0',\n",
       "  '화나요': '0',\n",
       "  '슬퍼요': '0',\n",
       "  '댓글 수': 0,\n",
       "  '댓글': []},\n",
       " 11: {'기사명': '신한금투 \"SK텔레콤, 본업 성장에 신사업 확장..목표가↑\"',\n",
       "  '날짜': '2021. 05. 12. 08:51',\n",
       "  '좋아요': '0',\n",
       "  '화나요': '0',\n",
       "  '슬퍼요': '0',\n",
       "  '댓글 수': 0,\n",
       "  '댓글': []},\n",
       " 12: {'기사명': 'SK텔레콤, 1분기 호실적에 신사업 기대감..목표가↑-신한',\n",
       "  '날짜': '2021. 05. 12. 08:53',\n",
       "  '좋아요': '0',\n",
       "  '화나요': '0',\n",
       "  '슬퍼요': '0',\n",
       "  '댓글 수': 0,\n",
       "  '댓글': []},\n",
       " 13: {'기사명': \"'깜짝 실적' 내고도 웃지 못하는 SK텔레콤·KT\",\n",
       "  '날짜': '2021. 05. 12. 03:00',\n",
       "  '좋아요': '0',\n",
       "  '화나요': '0',\n",
       "  '슬퍼요': '0',\n",
       "  '댓글 수': 0,\n",
       "  '댓글': []},\n",
       " 14: {'기사명': 'SK텔레콤, 기업분할해도 배당 줄어들지 않는다',\n",
       "  '날짜': '2021. 05. 11. 20:07',\n",
       "  '좋아요': '0',\n",
       "  '화나요': '0',\n",
       "  '슬퍼요': '0',\n",
       "  '댓글 수': 0,\n",
       "  '댓글': []},\n",
       " 15: {'기사명': '\"SK텔레콤, 시장 기대치 웃도는 실적·자사주 소각..목표가↑\"',\n",
       "  '날짜': '2021. 05. 12. 08:59',\n",
       "  '좋아요': '0',\n",
       "  '화나요': '0',\n",
       "  '슬퍼요': '0',\n",
       "  '댓글 수': 0,\n",
       "  '댓글': []}}"
      ]
     },
     "execution_count": 62,
     "metadata": {},
     "output_type": "execute_result"
    }
   ],
   "source": [
    "dict = {}\n",
    "\n",
    "# 페이지당 기사 수집\n",
    "for i in tqdm(range(0, s)):   # len(df['url'])\n",
    "    try:\n",
    "        # 뉴스 크롬창 띄우기\n",
    "        driver = webdriver.Chrome(\"chromedriver.exe\")  # 맥 : /Users/aiden/Desktop/chromedriver\n",
    "        driver.get(df['url'][i])\n",
    "        time.sleep(1)\n",
    "\n",
    "        # 기사 데이터 수집\n",
    "        title = driver.find_element_by_css_selector('.tit_view').text\n",
    "        date = driver.find_element_by_css_selector('.num_date').text\n",
    "        angry = driver.find_element_by_css_selector(\".emotion_list .selectionbox.type-LIKE.unselected .count\").text\n",
    "        like = driver.find_element_by_css_selector(\".emotion_list .selectionbox.type-ANGRY.unselected .count\").text\n",
    "        sad = driver.find_element_by_css_selector(\".emotion_list .selectionbox.type-SAD.unselected .count\").text\n",
    "        \n",
    "        # 기사 댓글 갯수 \n",
    "        review_count = int(driver.find_element_by_css_selector(\".num_count\").text.replace(',', ''))\n",
    "\n",
    "        # review 수집하기\n",
    "        review_list = []\n",
    "        overlays1 = \".desc_txt\"\n",
    "        reviews = driver.find_elements_by_css_selector(overlays1)\n",
    "        for review in tqdm(reviews):    \n",
    "            review = review.text\n",
    "            review_list.append(review)\n",
    "\n",
    "        target_info = {}\n",
    "        target_info['기사명'] = title\n",
    "        target_info['날짜'] = date\n",
    "        target_info['좋아요'] = like\n",
    "        target_info['화나요'] = angry\n",
    "        target_info['슬퍼요'] = sad\n",
    "        target_info['댓글 수'] = len(review_list)\n",
    "        target_info['댓글'] = review_list\n",
    "\n",
    "        dict[i] = target_info\n",
    "        \n",
    "        print(title, '( 댓글 수:', len(review_list),')')\n",
    "\n",
    "        driver.close()\n",
    "        time.sleep(1)\n",
    "        \n",
    "    except:\n",
    "        driver.close()\n",
    "        continue\n",
    "\n",
    "print(len(dict))\n",
    "dict"
   ]
  },
  {
   "cell_type": "code",
   "execution_count": 50,
   "metadata": {},
   "outputs": [
    {
     "data": {
      "text/html": [
       "<div>\n",
       "<style scoped>\n",
       "    .dataframe tbody tr th:only-of-type {\n",
       "        vertical-align: middle;\n",
       "    }\n",
       "\n",
       "    .dataframe tbody tr th {\n",
       "        vertical-align: top;\n",
       "    }\n",
       "\n",
       "    .dataframe thead th {\n",
       "        text-align: right;\n",
       "    }\n",
       "</style>\n",
       "<table border=\"1\" class=\"dataframe\">\n",
       "  <thead>\n",
       "    <tr style=\"text-align: right;\">\n",
       "      <th></th>\n",
       "      <th>기사명</th>\n",
       "      <th>날짜</th>\n",
       "      <th>좋아요</th>\n",
       "      <th>화나요</th>\n",
       "      <th>슬퍼요</th>\n",
       "      <th>댓글 수</th>\n",
       "      <th>댓글</th>\n",
       "    </tr>\n",
       "  </thead>\n",
       "  <tbody>\n",
       "    <tr>\n",
       "      <th>0</th>\n",
       "      <td>SK텔레콤, 'AWS 서밋 2021' 참가..MEC·클라우드 사업 비전 제시</td>\n",
       "      <td>2021. 05. 12. 12:07</td>\n",
       "      <td>0</td>\n",
       "      <td>0</td>\n",
       "      <td>0</td>\n",
       "      <td>0</td>\n",
       "      <td>[]</td>\n",
       "    </tr>\n",
       "    <tr>\n",
       "      <th>1</th>\n",
       "      <td>\"SK텔레콤, 1분기 실적 서프라이즈..2분기도 이어간다\" -이베스트</td>\n",
       "      <td>2021. 05. 12. 09:11</td>\n",
       "      <td>0</td>\n",
       "      <td>0</td>\n",
       "      <td>0</td>\n",
       "      <td>0</td>\n",
       "      <td>[]</td>\n",
       "    </tr>\n",
       "    <tr>\n",
       "      <th>2</th>\n",
       "      <td>SK텔레콤, 모멘텀에 더해진 호실적..목표가↑-SK증권</td>\n",
       "      <td>2021. 05. 12. 08:52</td>\n",
       "      <td>0</td>\n",
       "      <td>0</td>\n",
       "      <td>0</td>\n",
       "      <td>0</td>\n",
       "      <td>[]</td>\n",
       "    </tr>\n",
       "    <tr>\n",
       "      <th>3</th>\n",
       "      <td>휴림로봇, 테미 SK텔레콤 인공지능 탑재 소식에 2%대 강세</td>\n",
       "      <td>2021. 05. 12. 09:54</td>\n",
       "      <td>0</td>\n",
       "      <td>0</td>\n",
       "      <td>0</td>\n",
       "      <td>0</td>\n",
       "      <td>[]</td>\n",
       "    </tr>\n",
       "    <tr>\n",
       "      <th>4</th>\n",
       "      <td>휴림로봇, 테미 SK텔레콤 인공지능 탑재</td>\n",
       "      <td>2021. 05. 12. 09:35</td>\n",
       "      <td>0</td>\n",
       "      <td>0</td>\n",
       "      <td>0</td>\n",
       "      <td>0</td>\n",
       "      <td>[]</td>\n",
       "    </tr>\n",
       "    <tr>\n",
       "      <th>5</th>\n",
       "      <td>휴림로봇, '테미'에 SKT 인공지능 탑재..서비스 역량 강화</td>\n",
       "      <td>2021. 05. 12. 10:53</td>\n",
       "      <td>0</td>\n",
       "      <td>0</td>\n",
       "      <td>0</td>\n",
       "      <td>0</td>\n",
       "      <td>[]</td>\n",
       "    </tr>\n",
       "    <tr>\n",
       "      <th>6</th>\n",
       "      <td>휴림로봇, 테미 'SKT 인공지능 탑재'..B2C·B2B 역량↑</td>\n",
       "      <td>2021. 05. 12. 09:55</td>\n",
       "      <td>0</td>\n",
       "      <td>0</td>\n",
       "      <td>0</td>\n",
       "      <td>0</td>\n",
       "      <td>[]</td>\n",
       "    </tr>\n",
       "    <tr>\n",
       "      <th>7</th>\n",
       "      <td>SK텔레콤, 통신 그 이상으로 뻗어나간다-미래에셋</td>\n",
       "      <td>2021. 05. 12. 08:46</td>\n",
       "      <td>0</td>\n",
       "      <td>0</td>\n",
       "      <td>0</td>\n",
       "      <td>0</td>\n",
       "      <td>[]</td>\n",
       "    </tr>\n",
       "    <tr>\n",
       "      <th>8</th>\n",
       "      <td>SKT, 'AWS 서밋'서 MEC 서비스 소개</td>\n",
       "      <td>2021. 05. 12. 09:37</td>\n",
       "      <td>0</td>\n",
       "      <td>0</td>\n",
       "      <td>0</td>\n",
       "      <td>0</td>\n",
       "      <td>[]</td>\n",
       "    </tr>\n",
       "    <tr>\n",
       "      <th>9</th>\n",
       "      <td>SK텔레콤, 1·4분기 영업익 컨센서스 큰 폭 상회-유안타</td>\n",
       "      <td>2021. 05. 12. 07:53</td>\n",
       "      <td>0</td>\n",
       "      <td>0</td>\n",
       "      <td>0</td>\n",
       "      <td>0</td>\n",
       "      <td>[]</td>\n",
       "    </tr>\n",
       "    <tr>\n",
       "      <th>10</th>\n",
       "      <td>SK텔레콤, 1Q 영업익 3888억원..컨센서스 대폭 상회-유안타</td>\n",
       "      <td>2021. 05. 12. 07:46</td>\n",
       "      <td>0</td>\n",
       "      <td>0</td>\n",
       "      <td>0</td>\n",
       "      <td>0</td>\n",
       "      <td>[]</td>\n",
       "    </tr>\n",
       "    <tr>\n",
       "      <th>11</th>\n",
       "      <td>신한금투 \"SK텔레콤, 본업 성장에 신사업 확장..목표가↑\"</td>\n",
       "      <td>2021. 05. 12. 08:51</td>\n",
       "      <td>0</td>\n",
       "      <td>0</td>\n",
       "      <td>0</td>\n",
       "      <td>0</td>\n",
       "      <td>[]</td>\n",
       "    </tr>\n",
       "    <tr>\n",
       "      <th>12</th>\n",
       "      <td>SK텔레콤, 1분기 호실적에 신사업 기대감..목표가↑-신한</td>\n",
       "      <td>2021. 05. 12. 08:53</td>\n",
       "      <td>0</td>\n",
       "      <td>0</td>\n",
       "      <td>0</td>\n",
       "      <td>0</td>\n",
       "      <td>[]</td>\n",
       "    </tr>\n",
       "    <tr>\n",
       "      <th>13</th>\n",
       "      <td>'깜짝 실적' 내고도 웃지 못하는 SK텔레콤·KT</td>\n",
       "      <td>2021. 05. 12. 03:00</td>\n",
       "      <td>0</td>\n",
       "      <td>0</td>\n",
       "      <td>0</td>\n",
       "      <td>0</td>\n",
       "      <td>[]</td>\n",
       "    </tr>\n",
       "    <tr>\n",
       "      <th>14</th>\n",
       "      <td>SK텔레콤, 기업분할해도 배당 줄어들지 않는다</td>\n",
       "      <td>2021. 05. 11. 20:07</td>\n",
       "      <td>0</td>\n",
       "      <td>0</td>\n",
       "      <td>0</td>\n",
       "      <td>0</td>\n",
       "      <td>[]</td>\n",
       "    </tr>\n",
       "    <tr>\n",
       "      <th>15</th>\n",
       "      <td>\"SK텔레콤, 시장 기대치 웃도는 실적·자사주 소각..목표가↑\"</td>\n",
       "      <td>2021. 05. 12. 08:59</td>\n",
       "      <td>0</td>\n",
       "      <td>0</td>\n",
       "      <td>0</td>\n",
       "      <td>0</td>\n",
       "      <td>[]</td>\n",
       "    </tr>\n",
       "  </tbody>\n",
       "</table>\n",
       "</div>"
      ],
      "text/plain": [
       "                                           기사명                   날짜 좋아요 화나요  \\\n",
       "0   SK텔레콤, 'AWS 서밋 2021' 참가..MEC·클라우드 사업 비전 제시  2021. 05. 12. 12:07   0   0   \n",
       "1       \"SK텔레콤, 1분기 실적 서프라이즈..2분기도 이어간다\" -이베스트  2021. 05. 12. 09:11   0   0   \n",
       "2               SK텔레콤, 모멘텀에 더해진 호실적..목표가↑-SK증권  2021. 05. 12. 08:52   0   0   \n",
       "3            휴림로봇, 테미 SK텔레콤 인공지능 탑재 소식에 2%대 강세  2021. 05. 12. 09:54   0   0   \n",
       "4                       휴림로봇, 테미 SK텔레콤 인공지능 탑재  2021. 05. 12. 09:35   0   0   \n",
       "5           휴림로봇, '테미'에 SKT 인공지능 탑재..서비스 역량 강화  2021. 05. 12. 10:53   0   0   \n",
       "6          휴림로봇, 테미 'SKT 인공지능 탑재'..B2C·B2B 역량↑  2021. 05. 12. 09:55   0   0   \n",
       "7                  SK텔레콤, 통신 그 이상으로 뻗어나간다-미래에셋  2021. 05. 12. 08:46   0   0   \n",
       "8                    SKT, 'AWS 서밋'서 MEC 서비스 소개  2021. 05. 12. 09:37   0   0   \n",
       "9             SK텔레콤, 1·4분기 영업익 컨센서스 큰 폭 상회-유안타  2021. 05. 12. 07:53   0   0   \n",
       "10        SK텔레콤, 1Q 영업익 3888억원..컨센서스 대폭 상회-유안타  2021. 05. 12. 07:46   0   0   \n",
       "11           신한금투 \"SK텔레콤, 본업 성장에 신사업 확장..목표가↑\"  2021. 05. 12. 08:51   0   0   \n",
       "12            SK텔레콤, 1분기 호실적에 신사업 기대감..목표가↑-신한  2021. 05. 12. 08:53   0   0   \n",
       "13                 '깜짝 실적' 내고도 웃지 못하는 SK텔레콤·KT  2021. 05. 12. 03:00   0   0   \n",
       "14                   SK텔레콤, 기업분할해도 배당 줄어들지 않는다  2021. 05. 11. 20:07   0   0   \n",
       "15         \"SK텔레콤, 시장 기대치 웃도는 실적·자사주 소각..목표가↑\"  2021. 05. 12. 08:59   0   0   \n",
       "\n",
       "   슬퍼요  댓글 수  댓글  \n",
       "0    0     0  []  \n",
       "1    0     0  []  \n",
       "2    0     0  []  \n",
       "3    0     0  []  \n",
       "4    0     0  []  \n",
       "5    0     0  []  \n",
       "6    0     0  []  \n",
       "7    0     0  []  \n",
       "8    0     0  []  \n",
       "9    0     0  []  \n",
       "10   0     0  []  \n",
       "11   0     0  []  \n",
       "12   0     0  []  \n",
       "13   0     0  []  \n",
       "14   0     0  []  \n",
       "15   0     0  []  "
      ]
     },
     "execution_count": 50,
     "metadata": {},
     "output_type": "execute_result"
    }
   ],
   "source": [
    "# 판다스로 만들기\n",
    "import pandas as pd\n",
    "result_df = pd.DataFrame.from_dict(dict, 'index')\n",
    "result_df\n",
    "# result_df.rename(columns={result_df.columns[0] : name}, inplace=True)"
   ]
  },
  {
   "cell_type": "code",
   "execution_count": 51,
   "metadata": {},
   "outputs": [],
   "source": [
    "# 파일로 저장\n",
    "result_df.to_excel(\"daum_article_({}).xlsx\".format(keyword))"
   ]
  },
  {
   "cell_type": "code",
   "execution_count": null,
   "metadata": {},
   "outputs": [],
   "source": []
  },
  {
   "cell_type": "code",
   "execution_count": null,
   "metadata": {},
   "outputs": [],
   "source": []
  },
  {
   "cell_type": "code",
   "execution_count": null,
   "metadata": {},
   "outputs": [],
   "source": []
  }
 ],
 "metadata": {
  "kernelspec": {
   "display_name": "Python 3",
   "language": "python",
   "name": "python3"
  },
  "language_info": {
   "codemirror_mode": {
    "name": "ipython",
    "version": 3
   },
   "file_extension": ".py",
   "mimetype": "text/x-python",
   "name": "python",
   "nbconvert_exporter": "python",
   "pygments_lexer": "ipython3",
   "version": "3.8.5"
  },
  "varInspector": {
   "cols": {
    "lenName": 16,
    "lenType": 16,
    "lenVar": 40
   },
   "kernels_config": {
    "python": {
     "delete_cmd_postfix": "",
     "delete_cmd_prefix": "del ",
     "library": "var_list.py",
     "varRefreshCmd": "print(var_dic_list())"
    },
    "r": {
     "delete_cmd_postfix": ") ",
     "delete_cmd_prefix": "rm(",
     "library": "var_list.r",
     "varRefreshCmd": "cat(var_dic_list()) "
    }
   },
   "types_to_exclude": [
    "module",
    "function",
    "builtin_function_or_method",
    "instance",
    "_Feature"
   ],
   "window_display": false
  }
 },
 "nbformat": 4,
 "nbformat_minor": 2
}
